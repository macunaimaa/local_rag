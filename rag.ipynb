{
 "cells": [
  {
   "cell_type": "markdown",
   "metadata": {},
   "source": [
    "# A Gentle Introduction to RAG Applications\n",
    "\n",
    "This notebook creates a simple RAG (Retrieval-Augmented Generation) system to answer questions from a PDF document using an open-source model."
   ]
  },
  {
   "cell_type": "code",
   "execution_count": 1,
   "metadata": {},
   "outputs": [],
   "source": [
    "PDF_FILE = \"Paul.pdf\"\n",
    "\n",
    "# We'll be using Llama 3.1 8B for this example.\n",
    "MODEL = \"llama3.1\""
   ]
  },
  {
   "cell_type": "markdown",
   "metadata": {},
   "source": [
    "## Loading the PDF document\n",
    "\n",
    "Let's start by loading the PDF document and breaking it down into separate pages.\n",
    "\n",
    "<img src='images/documents.png' width=\"1000\">"
   ]
  },
  {
   "cell_type": "code",
   "execution_count": 2,
   "metadata": {},
   "outputs": [
    {
     "name": "stdout",
     "output_type": "stream",
     "text": [
      "Number of pages: 9\n",
      "Length of a page: 3320\n",
      "Content of a page: the numbers get. After a year you'll have 14,000 users, and after\n",
      "2 years you'll have 2 million.\n",
      "You'll be doing diﬀerent things when you're acquiring users a\n",
      "thousand at a time, and growth has to slow down eventually. But\n",
      "if the market exists you can usually start by recruiting users\n",
      "manually and then gradually switch to less manual methods. [3]\n",
      "Airbnb is a classic example of this technique. Marketplaces are\n",
      "so hard to get rolling that you should expect to take heroic\n",
      "measures at ﬁrst. In Airbnb's case, these consisted of going door\n",
      "to door in New York, recruiting new users and helping existing\n",
      "ones improve their listings. When I remember the Airbnbs during\n",
      "YC, I picture them with rolly bags, because when they showed up\n",
      "for tuesday dinners they'd always just ﬂown back from\n",
      "somewhere.\n",
      "Fragile\n",
      "Airbnb now seems like an unstoppable juggernaut, but early on it\n",
      "was so fragile that about 30 days of going out and engaging in\n",
      "person with users made the diﬀerence between success and\n",
      "failure.\n",
      "That initial fragility was not a unique feature of Airbnb. Almost\n",
      "all startups are fragile initially. And that's one of the biggest\n",
      "things inexperienced founders and investors (and reporters and\n",
      "know-it-alls on forums) get wrong about them. They\n",
      "unconsciously judge larval startups by the standards of\n",
      "established ones. They're like someone looking at a newborn\n",
      "baby and concluding \"there's no way this tiny creature could ever\n",
      "accomplish anything.\"\n",
      "It's harmless if reporters and know-it-alls dismiss your startup.\n",
      "They always get things wrong. It's even ok if investors dismiss\n",
      "your startup; they'll change their minds when they see growth.\n",
      "The big danger is that you'll dismiss your startup yourself. I've\n",
      "seen it happen. I often have to encourage founders who don't see\n",
      "the full potential of what they're building. Even Bill Gates made\n",
      "that mistake. He returned to Harvard for the fall semester after\n",
      "starting Microsoft. He didn't stay long, but he wouldn't have\n",
      "returned at all if he'd realized Microsoft was going to be even a\n",
      "fraction of the size it turned out to be. [4]\n",
      "The question to ask about an early stage startup is not \"is this\n",
      "company taking over the world?\" but \"how big could this\n",
      "company get if the founders did the right things?\" And the right\n",
      "things often seem both laborious and inconsequential at the time.\n",
      "Microsoft can't have seemed very impressive when it was just a\n",
      "couple guys in Albuquerque writing Basic interpreters for a\n",
      "market of a few thousand hobbyists (as they were then called),\n",
      "but in retrospect that was the optimal path to dominating\n",
      "microcomputer software. And I know Brian Chesky and Joe\n",
      "Gebbia didn't feel like they were en route to the big time as they\n",
      "were taking \"professional\" photos of their ﬁrst hosts' apartments.\n",
      "They were just trying to survive. But in retrospect that too was\n",
      "the optimal path to dominating a big market.\n",
      "How do you ﬁnd users to recruit manually? If you build\n",
      "something to solve your own problems , then you only have to ﬁnd\n",
      "your peers, which is usually straightforward. Otherwise you'll\n",
      "have to make a more deliberate eﬀort to locate the most\n",
      "promising vein of users. The usual way to do that is to get some\n",
      "initial set of users by doing a comparatively untargeted launch,Do Things that Don't Scale https://paulgraham.com/ds.html\n",
      "2 of 9 11/6/24, 00:02\n"
     ]
    },
    {
     "name": "stderr",
     "output_type": "stream",
     "text": [
      "/home/joao/miniconda3/envs/local_rag/lib/python3.10/site-packages/pypdf/_crypt_providers/_cryptography.py:32: CryptographyDeprecationWarning: ARC4 has been moved to cryptography.hazmat.decrepit.ciphers.algorithms.ARC4 and will be removed from this module in 48.0.0.\n",
      "  from cryptography.hazmat.primitives.ciphers.algorithms import AES, ARC4\n"
     ]
    }
   ],
   "source": [
    "from langchain_community.document_loaders import PyPDFLoader\n",
    "\n",
    "loader = PyPDFLoader(PDF_FILE)\n",
    "pages = loader.load()\n",
    "\n",
    "print(f\"Number of pages: {len(pages)}\")\n",
    "print(f\"Length of a page: {len(pages[1].page_content)}\")\n",
    "print(\"Content of a page:\", pages[1].page_content)"
   ]
  },
  {
   "cell_type": "markdown",
   "metadata": {},
   "source": [
    "## Splitting the pages in chunks\n",
    "\n",
    "Pages are too long, so let's split pages into different chunks.\n",
    "\n",
    "<img src='images/splitter.png' width=\"1000\">\n"
   ]
  },
  {
   "cell_type": "code",
   "execution_count": 3,
   "metadata": {},
   "outputs": [
    {
     "name": "stdout",
     "output_type": "stream",
     "text": [
      "Number of chunks: 23\n",
      "Length of a chunk: 1358\n",
      "Content of a chunk: took better advantage of it than Stripe. At YC we use the term\n",
      "\"Collison installation\" for the technique they invented. More\n",
      "diﬀident founders ask \"Will you try our beta?\" and if the answer\n",
      "is yes, they say \"Great, we'll send you a link.\" But the Collison\n",
      "brothers weren't going to wait. When anyone agreed to try Stripe\n",
      "they'd say \"Right then, give me your laptop\" and set them up on\n",
      "the spot.\n",
      "There are two reasons founders resist going out and recruiting\n",
      "users individually. One is a combination of shyness and laziness.\n",
      "They'd rather sit at home writing code than go out and talk to a\n",
      "bunch of strangers and probably be rejected by most of them.\n",
      "But for a startup to succeed, at least one founder (usually the\n",
      "CEO) will have to spend a lot of time on sales and marketing. [2]\n",
      "The other reason founders ignore this path is that the absolute\n",
      "numbers seem so small at ﬁrst. This can't be how the big, famous\n",
      "startups got started, they think. The mistake they make is to\n",
      "underestimate the power of compound growth. We encourage\n",
      "every startup to measure their progress by weekly growth rate . If\n",
      "you have 100 users, you need to get 10 more next week to grow\n",
      "10% a week. And while 110 may not seem much better than 100,\n",
      "if you keep growing at 10% a week you'll be surprised how bigDo Things that Don't Scale https://paulgraham.com/ds.html\n",
      "1 of 9 11/6/24, 00:02\n"
     ]
    }
   ],
   "source": [
    "from langchain_text_splitters import RecursiveCharacterTextSplitter\n",
    "\n",
    "splitter = RecursiveCharacterTextSplitter(chunk_size=1500, chunk_overlap=100)\n",
    "\n",
    "chunks = splitter.split_documents(pages)\n",
    "print(f\"Number of chunks: {len(chunks)}\")\n",
    "print(f\"Length of a chunk: {len(chunks[1].page_content)}\")\n",
    "print(\"Content of a chunk:\", chunks[1].page_content)\n"
   ]
  },
  {
   "cell_type": "markdown",
   "metadata": {},
   "source": [
    "## Storing the chunks in a vector store\n",
    "\n",
    "We can now generate embeddings for every chunk and store them in a vector store.\n",
    "\n",
    "<img src='images/vectorstore.png' width=\"1000\">\n"
   ]
  },
  {
   "cell_type": "code",
   "execution_count": 4,
   "metadata": {},
   "outputs": [
    {
     "name": "stdout",
     "output_type": "stream",
     "text": [
      "[Document(metadata={'source': 'Paul.pdf', 'page': 0}, page_content=\"Want to start a startup? Get funded by Y Combinator .\\nJuly 2013\\nOne of the most common types of advice we give at Y Combinator\\nis to do things that don't scale. A lot of would-be founders believe\\nthat startups either take oﬀ or don't. You build something, make\\nit available, and if you've made a better mousetrap, people beat a\\npath to your door as promised. Or they don't, in which case the\\nmarket must not exist. [1]\\nActually startups take oﬀ because the founders make them take\\noﬀ. There may be a handful that just grew by themselves, but\\nusually it takes some sort of push to get them going. A good\\nmetaphor would be the cranks that car engines had before they\\ngot electric starters. Once the engine was going, it would keep\\ngoing, but there was a separate and laborious process to get it\\ngoing.\\nRecruit\\nThe most common unscalable thing founders have to do at the\\nstart is to recruit users manually. Nearly all startups have to. You\\ncan't wait for users to come to you. You have to go out and get\\nthem.\\nStripe is one of the most successful startups we've funded, and\\nthe problem they solved was an urgent one. If anyone could have\\nsat back and waited for users, it was Stripe. But in fact they're\\nfamous within YC for aggressive early user acquisition.\\nStartups building things for other startups have a big pool of\\npotential users in the other companies we've funded, and none\\ntook better advantage of it than Stripe. At YC we use the term\"), Document(metadata={'source': 'Paul.pdf', 'page': 0}, page_content='took better advantage of it than Stripe. At YC we use the term\\n\"Collison installation\" for the technique they invented. More\\ndiﬀident founders ask \"Will you try our beta?\" and if the answer\\nis yes, they say \"Great, we\\'ll send you a link.\" But the Collison\\nbrothers weren\\'t going to wait. When anyone agreed to try Stripe\\nthey\\'d say \"Right then, give me your laptop\" and set them up on\\nthe spot.\\nThere are two reasons founders resist going out and recruiting\\nusers individually. One is a combination of shyness and laziness.\\nThey\\'d rather sit at home writing code than go out and talk to a\\nbunch of strangers and probably be rejected by most of them.\\nBut for a startup to succeed, at least one founder (usually the\\nCEO) will have to spend a lot of time on sales and marketing. [2]\\nThe other reason founders ignore this path is that the absolute\\nnumbers seem so small at ﬁrst. This can\\'t be how the big, famous\\nstartups got started, they think. The mistake they make is to\\nunderestimate the power of compound growth. We encourage\\nevery startup to measure their progress by weekly growth rate . If\\nyou have 100 users, you need to get 10 more next week to grow\\n10% a week. And while 110 may not seem much better than 100,\\nif you keep growing at 10% a week you\\'ll be surprised how bigDo Things that Don\\'t Scale https://paulgraham.com/ds.html\\n1 of 9 11/6/24, 00:02'), Document(metadata={'source': 'Paul.pdf', 'page': 1}, page_content='the numbers get. After a year you\\'ll have 14,000 users, and after\\n2 years you\\'ll have 2 million.\\nYou\\'ll be doing diﬀerent things when you\\'re acquiring users a\\nthousand at a time, and growth has to slow down eventually. But\\nif the market exists you can usually start by recruiting users\\nmanually and then gradually switch to less manual methods. [3]\\nAirbnb is a classic example of this technique. Marketplaces are\\nso hard to get rolling that you should expect to take heroic\\nmeasures at ﬁrst. In Airbnb\\'s case, these consisted of going door\\nto door in New York, recruiting new users and helping existing\\nones improve their listings. When I remember the Airbnbs during\\nYC, I picture them with rolly bags, because when they showed up\\nfor tuesday dinners they\\'d always just ﬂown back from\\nsomewhere.\\nFragile\\nAirbnb now seems like an unstoppable juggernaut, but early on it\\nwas so fragile that about 30 days of going out and engaging in\\nperson with users made the diﬀerence between success and\\nfailure.\\nThat initial fragility was not a unique feature of Airbnb. Almost\\nall startups are fragile initially. And that\\'s one of the biggest\\nthings inexperienced founders and investors (and reporters and\\nknow-it-alls on forums) get wrong about them. They\\nunconsciously judge larval startups by the standards of\\nestablished ones. They\\'re like someone looking at a newborn\\nbaby and concluding \"there\\'s no way this tiny creature could ever\\naccomplish anything.\"'), Document(metadata={'source': 'Paul.pdf', 'page': 1}, page_content='baby and concluding \"there\\'s no way this tiny creature could ever\\naccomplish anything.\"\\nIt\\'s harmless if reporters and know-it-alls dismiss your startup.\\nThey always get things wrong. It\\'s even ok if investors dismiss\\nyour startup; they\\'ll change their minds when they see growth.\\nThe big danger is that you\\'ll dismiss your startup yourself. I\\'ve\\nseen it happen. I often have to encourage founders who don\\'t see\\nthe full potential of what they\\'re building. Even Bill Gates made\\nthat mistake. He returned to Harvard for the fall semester after\\nstarting Microsoft. He didn\\'t stay long, but he wouldn\\'t have\\nreturned at all if he\\'d realized Microsoft was going to be even a\\nfraction of the size it turned out to be. [4]\\nThe question to ask about an early stage startup is not \"is this\\ncompany taking over the world?\" but \"how big could this\\ncompany get if the founders did the right things?\" And the right\\nthings often seem both laborious and inconsequential at the time.\\nMicrosoft can\\'t have seemed very impressive when it was just a\\ncouple guys in Albuquerque writing Basic interpreters for a\\nmarket of a few thousand hobbyists (as they were then called),\\nbut in retrospect that was the optimal path to dominating\\nmicrocomputer software. And I know Brian Chesky and Joe\\nGebbia didn\\'t feel like they were en route to the big time as they\\nwere taking \"professional\" photos of their ﬁrst hosts\\' apartments.\\nThey were just trying to survive. But in retrospect that too was'), Document(metadata={'source': 'Paul.pdf', 'page': 1}, page_content=\"They were just trying to survive. But in retrospect that too was\\nthe optimal path to dominating a big market.\\nHow do you ﬁnd users to recruit manually? If you build\\nsomething to solve your own problems , then you only have to ﬁnd\\nyour peers, which is usually straightforward. Otherwise you'll\\nhave to make a more deliberate eﬀort to locate the most\\npromising vein of users. The usual way to do that is to get some\\ninitial set of users by doing a comparatively untargeted launch,Do Things that Don't Scale https://paulgraham.com/ds.html\\n2 of 9 11/6/24, 00:02\"), Document(metadata={'source': 'Paul.pdf', 'page': 2}, page_content=\"and then to observe which kind seem most enthusiastic, and seek\\nout more like them. For example, Ben Silbermann noticed that a\\nlot of the earliest Pinterest users were interested in design, so he\\nwent to a conference of design bloggers to recruit users, and that\\nworked well. [5]\\nDelight\\nYou should take extraordinary measures not just to acquire\\nusers, but also to make them happy. For as long as they could\\n(which turned out to be surprisingly long), Wufoo sent each new\\nuser a hand-written thank you note. Your ﬁrst users should feel\\nthat signing up with you was one of the best choices they ever\\nmade. And you in turn should be racking your brains to think of\\nnew ways to delight them.\\nWhy do we have to teach startups this? Why is it counterintuitive\\nfor founders? Three reasons, I think.\\nOne is that a lot of startup founders are trained as engineers, and\\ncustomer service is not part of the training of engineers. You're\\nsupposed to build things that are robust and elegant, not be\\nslavishly attentive to individual users like some kind of\\nsalesperson. Ironically, part of the reason engineering is\\ntraditionally averse to handholding is that its traditions date from\\na time when engineers were less powerful — when they were\\nonly in charge of their narrow domain of building things, rather\\nthan running the whole show. You can be ornery when you're\\nScotty, but not when you're Kirk.\\nAnother reason founders don't focus enough on individual\"), Document(metadata={'source': 'Paul.pdf', 'page': 2}, page_content=\"Scotty, but not when you're Kirk.\\nAnother reason founders don't focus enough on individual\\ncustomers is that they worry it won't scale. But when founders of\\nlarval startups worry about this, I point out that in their current\\nstate they have nothing to lose. Maybe if they go out of their way\\nto make existing users super happy, they'll one day have too\\nmany to do so much for. That would be a great problem to have.\\nSee if you can make it happen. And incidentally, when it does,\\nyou'll ﬁnd that delighting customers scales better than you\\nexpected. Partly because you can usually ﬁnd ways to make\\nanything scale more than you would have predicted, and partly\\nbecause delighting customers will by then have permeated your\\nculture.\\nI have never once seen a startup lured down a blind alley by\\ntrying too hard to make their initial users happy.\\nBut perhaps the biggest thing preventing founders from realizing\\nhow attentive they could be to their users is that they've never\\nexperienced such attention themselves. Their standards for\\ncustomer service have been set by the companies they've been\\ncustomers of, which are mostly big ones. Tim Cook doesn't send\\nyou a hand-written note after you buy a laptop. He can't. But you\\ncan. That's one advantage of being small: you can provide a level\\nof service no big company can. [6]\\nOnce you realize that existing conventions are not the upper\\nbound on user experience, it's interesting in a very pleasant way\"), Document(metadata={'source': 'Paul.pdf', 'page': 2}, page_content='bound on user experience, it\\'s interesting in a very pleasant way\\nto think about how far you could go to delight your users.\\nExperience\\nI was trying to think of a phrase to convey how extreme your\\nattention to users should be, and I realized Steve Jobs had\\nalready done it: insanely great. Steve wasn\\'t just using \"insanely\"Do Things that Don\\'t Scale https://paulgraham.com/ds.html\\n3 of 9 11/6/24, 00:02'), Document(metadata={'source': 'Paul.pdf', 'page': 3}, page_content='as a synonym for \"very.\" He meant it more literally — that one\\nshould focus on quality of execution to a degree that in everyday\\nlife would be considered pathological.\\nAll the most successful startups we\\'ve funded have, and that\\nprobably doesn\\'t surprise would-be founders. What novice\\nfounders don\\'t get is what insanely great translates to in a larval\\nstartup. When Steve Jobs started using that phrase, Apple was\\nalready an established company. He meant the Mac (and its\\ndocumentation and even packaging — such is the nature of\\nobsession) should be insanely well designed and manufactured.\\nThat\\'s not hard for engineers to grasp. It\\'s just a more extreme\\nversion of designing a robust and elegant product.\\nWhat founders have a hard time grasping (and Steve himself\\nmight have had a hard time grasping) is what insanely great\\nmorphs into as you roll the time slider back to the ﬁrst couple\\nmonths of a startup\\'s life. It\\'s not the product that should be\\ninsanely great, but the experience of being your user. The\\nproduct is just one component of that. For a big company it\\'s\\nnecessarily the dominant one. But you can and should give users\\nan insanely great experience with an early, incomplete, buggy\\nproduct, if you make up the diﬀerence with attentiveness.\\nCan, perhaps, but should? Yes. Over-engaging with early users is\\nnot just a permissible technique for getting growth rolling. For\\nmost successful startups it\\'s a necessary part of the feedback'), Document(metadata={'source': 'Paul.pdf', 'page': 3}, page_content=\"most successful startups it's a necessary part of the feedback\\nloop that makes the product good. Making a better mousetrap is\\nnot an atomic operation. Even if you start the way most\\nsuccessful startups have, by building something you yourself\\nneed, the ﬁrst thing you build is never quite right. And except in\\ndomains with big penalties for making mistakes, it's often better\\nnot to aim for perfection initially. In software, especially, it\\nusually works best to get something in front of users as soon as it\\nhas a quantum of utility, and then see what they do with it.\\nPerfectionism is often an excuse for procrastination, and in any\\ncase your initial model of users is always inaccurate, even if\\nyou're one of them. [ 7]\\nThe feedback you get from engaging directly with your earliest\\nusers will be the best you ever get. When you're so big you have\\nto resort to focus groups, you'll wish you could go over to your\\nusers' homes and oﬀices and watch them use your stuﬀ like you\\ndid when there were only a handful of them.\\nFire\\nSometimes the right unscalable trick is to focus on a deliberately\\nnarrow market. It's like keeping a ﬁre contained at ﬁrst to get it\\nreally hot before adding more logs.\\nThat's what Facebook did. At ﬁrst it was just for Harvard\\nstudents. In that form it only had a potential market of a few\\nthousand people, but because they felt it was really for them, a\\ncritical mass of them signed up. After Facebook stopped being\"), Document(metadata={'source': 'Paul.pdf', 'page': 3}, page_content=\"critical mass of them signed up. After Facebook stopped being\\nfor Harvard students, it remained for students at speciﬁc\\ncolleges for quite a while. When I interviewed Mark Zuckerberg\\nat Startup School, he said that while it was a lot of work creating\\ncourse lists for each school, doing that made students feel the\\nsite was their natural home.\\nAny startup that could be described as a marketplace usually has\\nto start in a subset of the market, but this can work for other\\nstartups as well. It's always worth asking if there's a subset ofDo Things that Don't Scale https://paulgraham.com/ds.html\\n4 of 9 11/6/24, 00:02\"), Document(metadata={'source': 'Paul.pdf', 'page': 4}, page_content='the market in which you can get a critical mass of users quickly.\\n[8]\\nMost startups that use the contained ﬁre strategy do it\\nunconsciously. They build something for themselves and their\\nfriends, who happen to be the early adopters, and only realize\\nlater that they could oﬀer it to a broader market. The strategy\\nworks just as well if you do it unconsciously. The biggest danger\\nof not being consciously aware of this pattern is for those who\\nnaively discard part of it. E.g. if you don\\'t build something for\\nyourself and your friends, or even if you do, but you come from\\nthe corporate world and your friends are not early adopters,\\nyou\\'ll no longer have a perfect initial market handed to you on a\\nplatter.\\nAmong companies, the best early adopters are usually other\\nstartups. They\\'re more open to new things both by nature and\\nbecause, having just been started, they haven\\'t made all their\\nchoices yet. Plus when they succeed they grow fast, and you with\\nthem. It was one of many unforeseen advantages of the YC model\\n(and speciﬁcally of making YC big) that B2B startups now have\\nan instant market of hundreds of other startups ready at hand.\\nMeraki\\nFor hardware startups  there\\'s a variant of doing things that don\\'t\\nscale that we call \"pulling a Meraki.\" Although we didn\\'t fund\\nMeraki, the founders were Robert Morris\\'s grad students, so we\\nknow their history. They got started by doing something that\\nreally doesn\\'t scale: assembling their routers themselves.'), Document(metadata={'source': 'Paul.pdf', 'page': 4}, page_content='really doesn\\'t scale: assembling their routers themselves.\\nHardware startups face an obstacle that software startups don\\'t.\\nThe minimum order for a factory production run is usually\\nseveral hundred thousand dollars. Which can put you in a\\ncatch-22: without a product you can\\'t generate the growth you\\nneed to raise the money to manufacture your product. Back when\\nhardware startups had to rely on investors for money, you had to\\nbe pretty convincing to overcome this. The arrival of\\ncrowdfunding (or more precisely, preorders) has helped a lot. But\\neven so I\\'d advise startups to pull a Meraki initially if they can.\\nThat\\'s what Pebble did. The Pebbles assembled  the ﬁrst several\\nhundred watches themselves. If they hadn\\'t gone through that\\nphase, they probably wouldn\\'t have sold $10 million worth of\\nwatches when they did go on Kickstarter.\\nLike paying excessive attention to early customers, fabricating\\nthings yourself turns out to be valuable for hardware startups.\\nYou can tweak the design faster when you\\'re the factory, and you\\nlearn things you\\'d never have known otherwise. Eric Migicovsky\\nof Pebble said one of the things he learned was \"how valuable it\\nwas to source good screws.\" Who knew?\\nConsult\\nSometimes we advise founders of B2B startups to take over-\\nengagement to an extreme, and to pick a single user and act as if\\nthey were consultants building something just for that one user.\\nThe initial user serves as the form for your mold; keep tweaking'), Document(metadata={'source': 'Paul.pdf', 'page': 4}, page_content=\"The initial user serves as the form for your mold; keep tweaking\\ntill you ﬁt their needs perfectly, and you'll usually ﬁnd you've\\nmade something other users want too. Even if there aren't many\\nof them, there are probably adjacent territories that have more.\\nAs long as you can ﬁnd just one user who really needs something\\nand can act on that need, you've got a toehold in making\\nsomething people want, and that's as much as any startup needsDo Things that Don't Scale https://paulgraham.com/ds.html\\n5 of 9 11/6/24, 00:02\"), Document(metadata={'source': 'Paul.pdf', 'page': 5}, page_content=\"initially. [ 9]\\nConsulting is the canonical example of work that doesn't scale.\\nBut (like other ways of bestowing one's favors liberally) it's safe\\nto do it so long as you're not being paid to. That's where\\ncompanies cross the line. So long as you're a product company\\nthat's merely being extra attentive to a customer, they're very\\ngrateful even if you don't solve all their problems. But when they\\nstart paying you speciﬁcally for that attentiveness — when they\\nstart paying you by the hour — they expect you to do everything.\\nAnother consulting-like technique for recruiting initially\\nlukewarm users is to use your software yourselves on their\\nbehalf. We did that at Viaweb. When we approached merchants\\nasking if they wanted to use our software to make online stores,\\nsome said no, but they'd let us make one for them. Since we\\nwould do anything to get users, we did. We felt pretty lame at the\\ntime. Instead of organizing big strategic e-commerce\\npartnerships, we were trying to sell luggage and pens and men's\\nshirts. But in retrospect it was exactly the right thing to do,\\nbecause it taught us how it would feel to merchants to use our\\nsoftware. Sometimes the feedback loop was near instantaneous:\\nin the middle of building some merchant's site I'd ﬁnd I needed a\\nfeature we didn't have, so I'd spend a couple hours implementing\\nit and then resume building the site.\\nManual\\nThere's a more extreme variant where you don't just use your\"), Document(metadata={'source': 'Paul.pdf', 'page': 5}, page_content='Manual\\nThere\\'s a more extreme variant where you don\\'t just use your\\nsoftware, but are your software. When you only have a small\\nnumber of users, you can sometimes get away with doing by\\nhand things that you plan to automate later. This lets you launch\\nfaster, and when you do ﬁnally automate yourself out of the loop,\\nyou\\'ll know exactly what to build because you\\'ll have muscle\\nmemory from doing it yourself.\\nWhen manual components look to the user like software, this\\ntechnique starts to have aspects of a practical joke. For example,\\nthe way Stripe delivered \"instant\" merchant accounts to its ﬁrst\\nusers was that the founders manually signed them up for\\ntraditional merchant accounts behind the scenes.\\nSome startups could be entirely manual at ﬁrst. If you can ﬁnd\\nsomeone with a problem that needs solving and you can solve it\\nmanually, go ahead and do that for as long as you can, and then\\ngradually automate the bottlenecks. It would be a little\\nfrightening to be solving users\\' problems in a way that wasn\\'t yet\\nautomatic, but less frightening than the far more common case of\\nhaving something automatic that doesn\\'t yet solve anyone\\'s\\nproblems.\\nBig\\nI should mention one sort of initial tactic that usually doesn\\'t\\nwork: the Big Launch. I occasionally meet founders who seem to\\nbelieve startups are projectiles rather than powered aircraft, and\\nthat they\\'ll make it big if and only if they\\'re launched with\\nsuﬀicient initial velocity. They want to launch simultaneously in 8'), Document(metadata={'source': 'Paul.pdf', 'page': 5}, page_content=\"suﬀicient initial velocity. They want to launch simultaneously in 8\\ndiﬀerent publications, with embargoes. And on a tuesday, of\\ncourse, since they read somewhere that's the optimum day to\\nlaunch something.\\nIt's easy to see how little launches matter. Think of some\\nsuccessful startups. How many of their launches do youDo Things that Don't Scale https://paulgraham.com/ds.html\\n6 of 9 11/6/24, 00:02\"), Document(metadata={'source': 'Paul.pdf', 'page': 6}, page_content=\"remember? All you need from a launch is some initial core of\\nusers. How well you're doing a few months later will depend\\nmore on how happy you made those users than how many there\\nwere of them. [10]\\nSo why do founders think launches matter? A combination of\\nsolipsism and laziness. They think what they're building is so\\ngreat that everyone who hears about it will immediately sign up.\\nPlus it would be so much less work if you could get users merely\\nby broadcasting your existence, rather than recruiting them one\\nat a time. But even if what you're building really is great, getting\\nusers will always be a gradual process — partly because great\\nthings are usually also novel, but mainly because users have\\nother things to think about.\\nPartnerships too usually don't work. They don't work for startups\\nin general, but they especially don't work as a way to get growth\\nstarted. It's a common mistake among inexperienced founders to\\nbelieve that a partnership with a big company will be their big\\nbreak. Six months later they're all saying the same thing: that\\nwas way more work than we expected, and we ended up getting\\npractically nothing out of it. [11]\\nIt's not enough just to do something extraordinary initially. You\\nhave to make an extraordinary eﬀort  initially. Any strategy that\\nomits the eﬀort — whether it's expecting a big launch to get you\\nusers, or a big partner — is ipso facto suspect.\\nVector\\nThe need to do something unscalably laborious to get started is\"), Document(metadata={'source': 'Paul.pdf', 'page': 6}, page_content=\"Vector\\nThe need to do something unscalably laborious to get started is\\nso nearly universal that it might be a good idea to stop thinking\\nof startup ideas as scalars. Instead we should try thinking of\\nthem as pairs of what you're going to build, plus the unscalable\\nthing(s) you're going to do initially to get the company going.\\nIt could be interesting to start viewing startup ideas this way,\\nbecause now that there are two components you can try to be\\nimaginative about the second as well as the ﬁrst. But in most\\ncases the second component will be what it usually is — recruit\\nusers manually and give them an overwhelmingly good\\nexperience — and the main beneﬁt of treating startups as vectors\\nwill be to remind founders they need to work hard in two\\ndimensions. [12]\\nIn the best case, both components of the vector contribute to\\nyour company's DNA: the unscalable things you have to do to get\\nstarted are not merely a necessary evil, but change the company\\npermanently for the better. If you have to be aggressive about\\nuser acquisition when you're small, you'll probably still be\\naggressive when you're big. If you have to manufacture your own\\nhardware, or use your software on users's behalf, you'll learn\\nthings you couldn't have learned otherwise. And most\\nimportantly, if you have to work hard to delight users when you\\nonly have a handful of them, you'll keep doing it when you have a\\nlot.\\nNotesDo Things that Don't Scale https://paulgraham.com/ds.html\\n7 of 9 11/6/24, 00:02\"), Document(metadata={'source': 'Paul.pdf', 'page': 7}, page_content='[1] Actually Emerson never mentioned mousetraps speciﬁcally.\\nHe wrote \"If a man has good corn or wood, or boards, or pigs, to\\nsell, or can make better chairs or knives, crucibles or church\\norgans, than anybody else, you will ﬁnd a broad hard-beaten road\\nto his house, though it be in the woods.\"\\n[2] Thanks to Sam Altman for suggesting I make this explicit.\\nAnd no, you can\\'t avoid doing sales by hiring someone to do it for\\nyou. You have to do sales yourself initially. Later you can hire a\\nreal salesperson to replace you.\\n[3] The reason this works is that as you get bigger, your size\\nhelps you grow. Patrick Collison wrote \"At some point, there was\\na very noticeable change in how Stripe felt. It tipped from being\\nthis boulder we had to push to being a train car that in fact had\\nits own momentum.\"\\n[4] One of the more subtle ways in which YC can help founders is\\nby calibrating their ambitions, because we know exactly how a\\nlot of successful startups looked when they were just getting\\nstarted.\\n[5] If you\\'re building something for which you can\\'t easily get a\\nsmall set of users to observe — e.g. enterprise software — and in\\na domain where you have no connections, you\\'ll have to rely on\\ncold calls and introductions. But should you even be working on\\nsuch an idea?\\n[6] Garry Tan pointed out an interesting trap founders fall into in\\nthe beginning. They want so much to seem big that they imitate\\neven the ﬂaws of big companies, like indiﬀerence to individual'), Document(metadata={'source': 'Paul.pdf', 'page': 7}, page_content='even the ﬂaws of big companies, like indiﬀerence to individual\\nusers. This seems to them more \"professional.\" Actually it\\'s\\nbetter to embrace the fact that you\\'re small and use whatever\\nadvantages that brings.\\n[7] Your user model almost couldn\\'t be perfectly accurate,\\nbecause users\\' needs often change in response to what you build\\nfor them. Build them a microcomputer, and suddenly they need\\nto run spreadsheets on it, because the arrival of your new\\nmicrocomputer causes someone to invent the spreadsheet.\\n[8] If you have to choose between the subset that will sign up\\nquickest and those that will pay the most, it\\'s usually best to pick\\nthe former, because those are probably the early adopters.\\nThey\\'ll have a better inﬂuence on your product, and they won\\'t\\nmake you expend as much eﬀort on sales. And though they have\\nless money, you don\\'t need that much to maintain your target\\ngrowth rate early on.\\n[9] Yes, I can imagine cases where you could end up making\\nsomething that was really only useful for one user. But those are\\nusually obvious, even to inexperienced founders. So if it\\'s not\\nobvious you\\'d be making something for a market of one, don\\'t\\nworry about that danger.\\n[10] There may even be an inverse correlation between launch\\nmagnitude and success. The only launches I remember are\\nfamous ﬂops like the Segway and Google Wave. Wave is a\\nparticularly alarming example, because I think it was actually a\\ngreat idea that was killed partly by its overdone launch.'), Document(metadata={'source': 'Paul.pdf', 'page': 7}, page_content=\"great idea that was killed partly by its overdone launch.\\n[11] Google grew big on the back of Yahoo, but that wasn't a\\npartnership. Yahoo was their customer.Do Things that Don't Scale https://paulgraham.com/ds.html\\n8 of 9 11/6/24, 00:02\"), Document(metadata={'source': 'Paul.pdf', 'page': 8}, page_content=\"[12] It will also remind founders that an idea where the second\\ncomponent is empty — an idea where there is nothing you can do\\nto get going, e.g. because you have no way to ﬁnd users to\\nrecruit manually — is probably a bad idea, at least for those\\nfounders.\\nThanks to Sam Altman, Paul Buchheit, Patrick Collison, Kevin\\nHale, Steven Levy, Jessica Livingston, Geoﬀ Ralston, and Garry\\nTan for reading drafts of this.\\nJapanese Translation\\n Russian Translation\\nFrench Translation\\n Arabic Translation\\nItalian Translation\\n Korean Translation\\nDo Things that Don't Scale https://paulgraham.com/ds.html\\n9 of 9 11/6/24, 00:02\")]\n"
     ]
    }
   ],
   "source": [
    "print(chunks)"
   ]
  },
  {
   "cell_type": "code",
   "execution_count": 5,
   "metadata": {},
   "outputs": [
    {
     "name": "stderr",
     "output_type": "stream",
     "text": [
      "/tmp/ipykernel_552165/2008811563.py:4: LangChainDeprecationWarning: The class `OllamaEmbeddings` was deprecated in LangChain 0.3.1 and will be removed in 1.0.0. An updated version of the class exists in the :class:`~langchain-ollama package and should be used instead. To use it run `pip install -U :class:`~langchain-ollama` and import as `from :class:`~langchain_ollama import OllamaEmbeddings``.\n",
      "  embeddings = OllamaEmbeddings(model=MODEL)\n"
     ]
    },
    {
     "ename": "ValueError",
     "evalue": "Error raised by inference API HTTP code: 404, {\"error\":\"model \\\"llama3.1\\\" not found, try pulling it first\"}",
     "output_type": "error",
     "traceback": [
      "\u001b[0;31m---------------------------------------------------------------------------\u001b[0m",
      "\u001b[0;31mValueError\u001b[0m                                Traceback (most recent call last)",
      "Cell \u001b[0;32mIn[5], line 5\u001b[0m\n\u001b[1;32m      2\u001b[0m \u001b[38;5;28;01mfrom\u001b[39;00m \u001b[38;5;21;01mlangchain_community\u001b[39;00m\u001b[38;5;21;01m.\u001b[39;00m\u001b[38;5;21;01membeddings\u001b[39;00m \u001b[38;5;28;01mimport\u001b[39;00m OllamaEmbeddings\n\u001b[1;32m      4\u001b[0m embeddings \u001b[38;5;241m=\u001b[39m OllamaEmbeddings(model\u001b[38;5;241m=\u001b[39mMODEL)\n\u001b[0;32m----> 5\u001b[0m vectorstore \u001b[38;5;241m=\u001b[39m \u001b[43mFAISS\u001b[49m\u001b[38;5;241;43m.\u001b[39;49m\u001b[43mfrom_documents\u001b[49m\u001b[43m(\u001b[49m\u001b[43mchunks\u001b[49m\u001b[43m,\u001b[49m\u001b[43m \u001b[49m\u001b[43membeddings\u001b[49m\u001b[43m)\u001b[49m\n",
      "File \u001b[0;32m~/miniconda3/envs/local_rag/lib/python3.10/site-packages/langchain_core/vectorstores/base.py:852\u001b[0m, in \u001b[0;36mVectorStore.from_documents\u001b[0;34m(cls, documents, embedding, **kwargs)\u001b[0m\n\u001b[1;32m    849\u001b[0m     \u001b[38;5;28;01mif\u001b[39;00m \u001b[38;5;28many\u001b[39m(ids):\n\u001b[1;32m    850\u001b[0m         kwargs[\u001b[38;5;124m\"\u001b[39m\u001b[38;5;124mids\u001b[39m\u001b[38;5;124m\"\u001b[39m] \u001b[38;5;241m=\u001b[39m ids\n\u001b[0;32m--> 852\u001b[0m \u001b[38;5;28;01mreturn\u001b[39;00m \u001b[38;5;28;43mcls\u001b[39;49m\u001b[38;5;241;43m.\u001b[39;49m\u001b[43mfrom_texts\u001b[49m\u001b[43m(\u001b[49m\u001b[43mtexts\u001b[49m\u001b[43m,\u001b[49m\u001b[43m \u001b[49m\u001b[43membedding\u001b[49m\u001b[43m,\u001b[49m\u001b[43m \u001b[49m\u001b[43mmetadatas\u001b[49m\u001b[38;5;241;43m=\u001b[39;49m\u001b[43mmetadatas\u001b[49m\u001b[43m,\u001b[49m\u001b[43m \u001b[49m\u001b[38;5;241;43m*\u001b[39;49m\u001b[38;5;241;43m*\u001b[39;49m\u001b[43mkwargs\u001b[49m\u001b[43m)\u001b[49m\n",
      "File \u001b[0;32m~/miniconda3/envs/local_rag/lib/python3.10/site-packages/langchain_community/vectorstores/faiss.py:1041\u001b[0m, in \u001b[0;36mFAISS.from_texts\u001b[0;34m(cls, texts, embedding, metadatas, ids, **kwargs)\u001b[0m\n\u001b[1;32m   1014\u001b[0m \u001b[38;5;129m@classmethod\u001b[39m\n\u001b[1;32m   1015\u001b[0m \u001b[38;5;28;01mdef\u001b[39;00m \u001b[38;5;21mfrom_texts\u001b[39m(\n\u001b[1;32m   1016\u001b[0m     \u001b[38;5;28mcls\u001b[39m,\n\u001b[0;32m   (...)\u001b[0m\n\u001b[1;32m   1021\u001b[0m     \u001b[38;5;241m*\u001b[39m\u001b[38;5;241m*\u001b[39mkwargs: Any,\n\u001b[1;32m   1022\u001b[0m ) \u001b[38;5;241m-\u001b[39m\u001b[38;5;241m>\u001b[39m FAISS:\n\u001b[1;32m   1023\u001b[0m \u001b[38;5;250m    \u001b[39m\u001b[38;5;124;03m\"\"\"Construct FAISS wrapper from raw documents.\u001b[39;00m\n\u001b[1;32m   1024\u001b[0m \n\u001b[1;32m   1025\u001b[0m \u001b[38;5;124;03m    This is a user friendly interface that:\u001b[39;00m\n\u001b[0;32m   (...)\u001b[0m\n\u001b[1;32m   1039\u001b[0m \u001b[38;5;124;03m            faiss = FAISS.from_texts(texts, embeddings)\u001b[39;00m\n\u001b[1;32m   1040\u001b[0m \u001b[38;5;124;03m    \"\"\"\u001b[39;00m\n\u001b[0;32m-> 1041\u001b[0m     embeddings \u001b[38;5;241m=\u001b[39m \u001b[43membedding\u001b[49m\u001b[38;5;241;43m.\u001b[39;49m\u001b[43membed_documents\u001b[49m\u001b[43m(\u001b[49m\u001b[43mtexts\u001b[49m\u001b[43m)\u001b[49m\n\u001b[1;32m   1042\u001b[0m     \u001b[38;5;28;01mreturn\u001b[39;00m \u001b[38;5;28mcls\u001b[39m\u001b[38;5;241m.\u001b[39m__from(\n\u001b[1;32m   1043\u001b[0m         texts,\n\u001b[1;32m   1044\u001b[0m         embeddings,\n\u001b[0;32m   (...)\u001b[0m\n\u001b[1;32m   1048\u001b[0m         \u001b[38;5;241m*\u001b[39m\u001b[38;5;241m*\u001b[39mkwargs,\n\u001b[1;32m   1049\u001b[0m     )\n",
      "File \u001b[0;32m~/miniconda3/envs/local_rag/lib/python3.10/site-packages/langchain_community/embeddings/ollama.py:214\u001b[0m, in \u001b[0;36mOllamaEmbeddings.embed_documents\u001b[0;34m(self, texts)\u001b[0m\n\u001b[1;32m    205\u001b[0m \u001b[38;5;250m\u001b[39m\u001b[38;5;124;03m\"\"\"Embed documents using an Ollama deployed embedding model.\u001b[39;00m\n\u001b[1;32m    206\u001b[0m \n\u001b[1;32m    207\u001b[0m \u001b[38;5;124;03mArgs:\u001b[39;00m\n\u001b[0;32m   (...)\u001b[0m\n\u001b[1;32m    211\u001b[0m \u001b[38;5;124;03m    List of embeddings, one for each text.\u001b[39;00m\n\u001b[1;32m    212\u001b[0m \u001b[38;5;124;03m\"\"\"\u001b[39;00m\n\u001b[1;32m    213\u001b[0m instruction_pairs \u001b[38;5;241m=\u001b[39m [\u001b[38;5;124mf\u001b[39m\u001b[38;5;124m\"\u001b[39m\u001b[38;5;132;01m{\u001b[39;00m\u001b[38;5;28mself\u001b[39m\u001b[38;5;241m.\u001b[39membed_instruction\u001b[38;5;132;01m}\u001b[39;00m\u001b[38;5;132;01m{\u001b[39;00mtext\u001b[38;5;132;01m}\u001b[39;00m\u001b[38;5;124m\"\u001b[39m \u001b[38;5;28;01mfor\u001b[39;00m text \u001b[38;5;129;01min\u001b[39;00m texts]\n\u001b[0;32m--> 214\u001b[0m embeddings \u001b[38;5;241m=\u001b[39m \u001b[38;5;28;43mself\u001b[39;49m\u001b[38;5;241;43m.\u001b[39;49m\u001b[43m_embed\u001b[49m\u001b[43m(\u001b[49m\u001b[43minstruction_pairs\u001b[49m\u001b[43m)\u001b[49m\n\u001b[1;32m    215\u001b[0m \u001b[38;5;28;01mreturn\u001b[39;00m embeddings\n",
      "File \u001b[0;32m~/miniconda3/envs/local_rag/lib/python3.10/site-packages/langchain_community/embeddings/ollama.py:202\u001b[0m, in \u001b[0;36mOllamaEmbeddings._embed\u001b[0;34m(self, input)\u001b[0m\n\u001b[1;32m    200\u001b[0m \u001b[38;5;28;01melse\u001b[39;00m:\n\u001b[1;32m    201\u001b[0m     iter_ \u001b[38;5;241m=\u001b[39m \u001b[38;5;28minput\u001b[39m\n\u001b[0;32m--> 202\u001b[0m \u001b[38;5;28;01mreturn\u001b[39;00m [\u001b[38;5;28mself\u001b[39m\u001b[38;5;241m.\u001b[39m_process_emb_response(prompt) \u001b[38;5;28;01mfor\u001b[39;00m prompt \u001b[38;5;129;01min\u001b[39;00m iter_]\n",
      "File \u001b[0;32m~/miniconda3/envs/local_rag/lib/python3.10/site-packages/langchain_community/embeddings/ollama.py:202\u001b[0m, in \u001b[0;36m<listcomp>\u001b[0;34m(.0)\u001b[0m\n\u001b[1;32m    200\u001b[0m \u001b[38;5;28;01melse\u001b[39;00m:\n\u001b[1;32m    201\u001b[0m     iter_ \u001b[38;5;241m=\u001b[39m \u001b[38;5;28minput\u001b[39m\n\u001b[0;32m--> 202\u001b[0m \u001b[38;5;28;01mreturn\u001b[39;00m [\u001b[38;5;28;43mself\u001b[39;49m\u001b[38;5;241;43m.\u001b[39;49m\u001b[43m_process_emb_response\u001b[49m\u001b[43m(\u001b[49m\u001b[43mprompt\u001b[49m\u001b[43m)\u001b[49m \u001b[38;5;28;01mfor\u001b[39;00m prompt \u001b[38;5;129;01min\u001b[39;00m iter_]\n",
      "File \u001b[0;32m~/miniconda3/envs/local_rag/lib/python3.10/site-packages/langchain_community/embeddings/ollama.py:176\u001b[0m, in \u001b[0;36mOllamaEmbeddings._process_emb_response\u001b[0;34m(self, input)\u001b[0m\n\u001b[1;32m    173\u001b[0m     \u001b[38;5;28;01mraise\u001b[39;00m \u001b[38;5;167;01mValueError\u001b[39;00m(\u001b[38;5;124mf\u001b[39m\u001b[38;5;124m\"\u001b[39m\u001b[38;5;124mError raised by inference endpoint: \u001b[39m\u001b[38;5;132;01m{\u001b[39;00me\u001b[38;5;132;01m}\u001b[39;00m\u001b[38;5;124m\"\u001b[39m)\n\u001b[1;32m    175\u001b[0m \u001b[38;5;28;01mif\u001b[39;00m res\u001b[38;5;241m.\u001b[39mstatus_code \u001b[38;5;241m!=\u001b[39m \u001b[38;5;241m200\u001b[39m:\n\u001b[0;32m--> 176\u001b[0m     \u001b[38;5;28;01mraise\u001b[39;00m \u001b[38;5;167;01mValueError\u001b[39;00m(\n\u001b[1;32m    177\u001b[0m         \u001b[38;5;124m\"\u001b[39m\u001b[38;5;124mError raised by inference API HTTP code: \u001b[39m\u001b[38;5;132;01m%s\u001b[39;00m\u001b[38;5;124m, \u001b[39m\u001b[38;5;132;01m%s\u001b[39;00m\u001b[38;5;124m\"\u001b[39m\n\u001b[1;32m    178\u001b[0m         \u001b[38;5;241m%\u001b[39m (res\u001b[38;5;241m.\u001b[39mstatus_code, res\u001b[38;5;241m.\u001b[39mtext)\n\u001b[1;32m    179\u001b[0m     )\n\u001b[1;32m    180\u001b[0m \u001b[38;5;28;01mtry\u001b[39;00m:\n\u001b[1;32m    181\u001b[0m     t \u001b[38;5;241m=\u001b[39m res\u001b[38;5;241m.\u001b[39mjson()\n",
      "\u001b[0;31mValueError\u001b[0m: Error raised by inference API HTTP code: 404, {\"error\":\"model \\\"llama3.1\\\" not found, try pulling it first\"}"
     ]
    }
   ],
   "source": [
    "from langchain_community.vectorstores import FAISS\n",
    "from langchain_community.embeddings import OllamaEmbeddings\n",
    "\n",
    "embeddings = OllamaEmbeddings(model=MODEL)\n",
    "vectorstore = FAISS.from_documents(chunks, embeddings)"
   ]
  },
  {
   "cell_type": "markdown",
   "metadata": {},
   "source": [
    "## Setting up a retriever\n",
    "\n",
    "We can use a retriever to find chunks in the vector store that are similar to a supplied question.\n",
    "\n",
    "<img src='images/retriever.png' width=\"1000\">\n",
    "\n"
   ]
  },
  {
   "cell_type": "code",
   "execution_count": null,
   "metadata": {},
   "outputs": [
    {
     "data": {
      "text/plain": [
       "[Document(metadata={'source': 'paul.pdf', 'page': 7}, page_content=\"started are not merely a necessary evil, but change the companypermanently for the better. If you have to be aggressive aboutuser acquisition when you're small, you'll probably still beaggressive when you're big. If you have to manufacture your ownhardware, or use your software on users's behalf, you'll learnthings you couldn't have learned otherwise. And mostimportantly, if you have to work hard to delight users when youonly have a handful of them, you'll keep doing it when you have alot.\"),\n",
       " Document(metadata={'source': 'paul.pdf', 'page': 0}, page_content='Want to start a startup? Get funded by Y Combinator.'),\n",
       " Document(metadata={'source': 'paul.pdf', 'page': 7}, page_content='Notes[1] Actually Emerson never mentioned mousetraps specifically. Hewrote \"If a man has good corn or wood, or boards, or pigs, tosell, or can make better chairs or knives, crucibles or churchorgans, than anybody else, you will find a broad hard-beaten roadto his house, though it be in the woods.\"[2] Thanks to Sam Altman for suggesting I make this explicit.And no, you can\\'t avoid doing sales by hiring someone to do it foryou. You have to do sales yourself initially. Later you can hire areal salesperson to replace you.[3] The reason this works is that as you get bigger, your sizehelps you grow. Patrick Collison wrote \"At some point, there wasa very noticeable change in how Stripe felt. It tipped from beingthis boulder we had to push to being a train car that in fact hadits own momentum.\"[4] One of the more subtle ways in which YC can help founders isby calibrating their ambitions, because we know exactly how a lotof successful startups looked when they were just getting started.[5] If you\\'re building something for which you can\\'t easily get asmall set of users to observe — e.g. enterprise software — and ina domain where you have no connections, you\\'ll have to rely oncold calls and introductions. But should you even be working onsuch an idea?[6] Garry Tan pointed out an interesting trap founders fall into inthe beginning. They want so much to seem big that they imitateeven the flaws of big companies, like indifference to individualusers. This seems to them more \"professional.\"'),\n",
       " Document(metadata={'source': 'paul.pdf', 'page': 3}, page_content=\"In that form it only had a potential market of a fewthousand people, but because they felt it was really for them, acritical mass of them signed up. After Facebook stopped being for8/6/24, 11:04 AMDo Things that Don't Scale\")]"
      ]
     },
     "execution_count": 16,
     "metadata": {},
     "output_type": "execute_result"
    }
   ],
   "source": [
    "retriever = vectorstore.as_retriever()\n",
    "retriever.invoke(\"What can you get away with when you only have a small number of users?\")"
   ]
  },
  {
   "cell_type": "markdown",
   "metadata": {},
   "source": [
    "## Configuring the model\n",
    "\n",
    "We'll be using Ollama to load the local model in memory. After creating the model, we can invoke it with a question to get the response back.\n",
    "\n",
    "<img src='images/model.png' width=\"1000\">"
   ]
  },
  {
   "cell_type": "code",
   "execution_count": null,
   "metadata": {},
   "outputs": [
    {
     "data": {
      "text/plain": [
       "AIMessage(content='As of my last update in April 2023, Joe Biden is the President of the United States. He took office on January 20, 2021, succeeding Donald Trump as the 46th President of the United States. Please note that this information might change over time due to elections or other political developments.', response_metadata={'model': 'llama3.1', 'created_at': '2024-08-11T15:56:24.740654949Z', 'message': {'role': 'assistant', 'content': ''}, 'done_reason': 'stop', 'done': True, 'total_duration': 1628813229, 'load_duration': 22064348, 'prompt_eval_count': 20, 'prompt_eval_duration': 40750000, 'eval_count': 65, 'eval_duration': 1520747000}, id='run-c453f60f-b4c3-4ed8-84db-c715f94eb563-0', usage_metadata={'input_tokens': 20, 'output_tokens': 65, 'total_tokens': 85})"
      ]
     },
     "execution_count": 17,
     "metadata": {},
     "output_type": "execute_result"
    }
   ],
   "source": [
    "from langchain_ollama import ChatOllama\n",
    "\n",
    "model = ChatOllama(model=MODEL, temperature=0)\n",
    "model.invoke(\"Who is the president of the United States?\")"
   ]
  },
  {
   "cell_type": "markdown",
   "metadata": {},
   "source": [
    "## Parsing the model's response\n",
    "\n",
    "The response from the model is an `AIMessage` instance containing the answer. We can extract the text answer by using the appropriate output parser. We can connect the model and the parser using a chain.\n",
    "\n",
    "<img src='images/parser.png' width=\"1000\">\n"
   ]
  },
  {
   "cell_type": "code",
   "execution_count": null,
   "metadata": {},
   "outputs": [
    {
     "name": "stdout",
     "output_type": "stream",
     "text": [
      "As of my last update in April 2023, Joe Biden is the President of the United States. He took office on January 20, 2021, succeeding Donald Trump as the 46th President of the United States. Please note that this information might change over time due to elections or other political developments.\n"
     ]
    }
   ],
   "source": [
    "from langchain_core.output_parsers import StrOutputParser\n",
    "\n",
    "parser = StrOutputParser()\n",
    "\n",
    "chain = model | parser \n",
    "print(chain.invoke(\"Who is the president of the United States?\"))"
   ]
  },
  {
   "cell_type": "markdown",
   "metadata": {},
   "source": [
    "## Setting up a prompt\n",
    "\n",
    "In addition to the question we want to ask, we also want to provide the model with the context from the PDF file. We can use a prompt template to define and reuse the prompt we'll use with the model.\n",
    "\n",
    "\n",
    "<img src='images/prompt.png' width=\"1000\">"
   ]
  },
  {
   "cell_type": "code",
   "execution_count": null,
   "metadata": {},
   "outputs": [
    {
     "name": "stdout",
     "output_type": "stream",
     "text": [
      "\n",
      "You are an assistant that provides answers to questions based on\n",
      "a given context. \n",
      "\n",
      "Answer the question based on the context. If you can't answer the\n",
      "question, reply \"I don't know\".\n",
      "\n",
      "Be as concise as possible and go straight to the point.\n",
      "\n",
      "Context: Here is some context\n",
      "\n",
      "Question: Here is a question\n",
      "\n"
     ]
    }
   ],
   "source": [
    "from langchain.prompts import PromptTemplate\n",
    "\n",
    "template = \"\"\"\n",
    "You are an assistant that provides answers to questions based on\n",
    "a given context. \n",
    "\n",
    "Answer the question based on the context. If you can't answer the\n",
    "question, reply \"I don't know\".\n",
    "\n",
    "Be as concise as possible and go straight to the point.\n",
    "\n",
    "Context: {context}\n",
    "\n",
    "Question: {question}\n",
    "\"\"\"\n",
    "\n",
    "prompt = PromptTemplate.from_template(template)\n",
    "print(prompt.format(context=\"Here is some context\", question=\"Here is a question\"))"
   ]
  },
  {
   "cell_type": "markdown",
   "metadata": {},
   "source": [
    "## Adding the prompt to the chain\n",
    "\n",
    "We can now chain the prompt with the model and the parser.\n",
    "\n",
    "<img src='images/chain1.png' width=\"1000\">"
   ]
  },
  {
   "cell_type": "code",
   "execution_count": null,
   "metadata": {},
   "outputs": [
    {
     "data": {
      "text/plain": [
       "'Anna.'"
      ]
     },
     "execution_count": 20,
     "metadata": {},
     "output_type": "execute_result"
    }
   ],
   "source": [
    "chain = prompt | model | parser\n",
    "\n",
    "chain.invoke({\n",
    "    \"context\": \"Anna's sister is Susan\", \n",
    "    \"question\": \"Who is Susan's sister?\"\n",
    "})\n"
   ]
  },
  {
   "cell_type": "markdown",
   "metadata": {},
   "source": [
    "## Adding the retriever to the chain\n",
    "\n",
    "Finally, we can connect the retriever to the chain to get the context from the vector store.\n",
    "\n",
    "<img src='images/chain2.png' width=\"1000\">"
   ]
  },
  {
   "cell_type": "code",
   "execution_count": null,
   "metadata": {},
   "outputs": [],
   "source": [
    "from operator import itemgetter\n",
    "\n",
    "chain = (\n",
    "    {\n",
    "        \"context\": itemgetter(\"question\") | retriever,\n",
    "        \"question\": itemgetter(\"question\"),\n",
    "    }\n",
    "    | prompt\n",
    "    | model\n",
    "    | parser\n",
    ")"
   ]
  },
  {
   "cell_type": "markdown",
   "metadata": {},
   "source": [
    "## Using the chain to answer questions\n",
    "\n",
    "Finally, we can use the chain to ask questions that will be answered using the PDF document."
   ]
  },
  {
   "cell_type": "code",
   "execution_count": null,
   "metadata": {},
   "outputs": [
    {
     "name": "stdout",
     "output_type": "stream",
     "text": [
      "Question: What can you get away with when you only have a small number of users?\n",
      "Answer: Delight users.\n",
      "*************************\n",
      "\n",
      "Question: What's the most common unscalable thing founders have to do at the start?\n",
      "Answer: Delighting users individually.\n",
      "*************************\n",
      "\n",
      "Question: What's one of the biggest things inexperienced founders and investors get wrong about startups?\n",
      "Answer: They want to seem big too early and imitate flaws of big companies, like indifference to individual users.\n",
      "*************************\n",
      "\n"
     ]
    }
   ],
   "source": [
    "questions = [\n",
    "    \"What can you get away with when you only have a small number of users?\",\n",
    "    \"What's the most common unscalable thing founders have to do at the start?\",\n",
    "    \"What's one of the biggest things inexperienced founders and investors get wrong about startups?\",\n",
    "]\n",
    "\n",
    "for question in questions:\n",
    "    print(f\"Question: {question}\")\n",
    "    print(f\"Answer: {chain.invoke({'question': question})}\")\n",
    "    print(\"*************************\\n\")"
   ]
  },
  {
   "cell_type": "code",
   "execution_count": null,
   "metadata": {},
   "outputs": [],
   "source": []
  }
 ],
 "metadata": {
  "kernelspec": {
   "display_name": "local_rag",
   "language": "python",
   "name": "python3"
  },
  "language_info": {
   "codemirror_mode": {
    "name": "ipython",
    "version": 3
   },
   "file_extension": ".py",
   "mimetype": "text/x-python",
   "name": "python",
   "nbconvert_exporter": "python",
   "pygments_lexer": "ipython3",
   "version": "3.10.13"
  }
 },
 "nbformat": 4,
 "nbformat_minor": 2
}
